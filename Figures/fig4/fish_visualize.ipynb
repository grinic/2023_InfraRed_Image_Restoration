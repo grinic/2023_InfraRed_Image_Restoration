{
 "cells": [
  {
   "cell_type": "code",
   "execution_count": 1,
   "id": "afc0224a",
   "metadata": {},
   "outputs": [],
   "source": [
    "import os, glob\n",
    "import numpy as np\n",
    "import matplotlib. pyplot as plt\n",
    "import pandas as pd\n",
    "import seaborn as sns\n",
    "from skimage.io import imread, imsave\n",
    "from tqdm.notebook import tqdm\n",
    "from scipy.fftpack import dct\n",
    "import pickle\n",
    "from skimage.morphology import remove_small_holes, binary_dilation, disk, binary_erosion\n",
    "from skimage.transform import resize\n",
    "\n",
    "from matplotlib import rc\n",
    "plt.rcParams.update({'font.size': 15})\n",
    "rc('font', size=12)\n",
    "rc('font', family='Arial')\n",
    "# plt.style.use('dark_background')\n",
    "rc('pdf', fonttype=42)\n",
    "\n",
    "import napari"
   ]
  },
  {
   "cell_type": "code",
   "execution_count": 8,
   "id": "a35640cd",
   "metadata": {},
   "outputs": [],
   "source": [
    "folders = [\n",
    "    'input',\n",
    "    'restored_with_model_2dpf_1fish_patches32x128x128_2layers',\n",
    "    'restored_with_model_3dpf_1fish_patches32x128x128_2layers',\n",
    "    'restored_with_model_4dpf_1fish_patches32x128x128_2layers',\n",
    "]\n",
    "\n",
    "filelists = [\n",
    "    glob.glob(os.path.join(f,'*.tif')) for f in folders\n",
    "]\n",
    "\n",
    "filelists = [f[::10] for f in filelists]\n",
    "\n",
    "_ = [f.sort() for f in filelists]"
   ]
  },
  {
   "cell_type": "code",
   "execution_count": 9,
   "id": "021a8144",
   "metadata": {},
   "outputs": [
    {
     "data": {
      "text/plain": [
       "[['input\\\\3dpf_H2bGFP_72hrtimelapse,_5-14-2021_12-27-06_PM,_t=000271,_position=0001,_channel=ch00.tif',\n",
       "  'input\\\\3dpf_H2bGFP_72hrtimelapse,_5-14-2021_12-27-06_PM,_t=000601,_position=0001,_channel=ch00.tif',\n",
       "  'input\\\\3dpf_H2bGFP_72hrtimelapse,_5-14-2021_12-27-06_PM,_t=000811,_position=0001,_channel=ch00.tif'],\n",
       " ['restored_with_model_2dpf_1fish_patches32x128x128_2layers\\\\restored00000.tif',\n",
       "  'restored_with_model_2dpf_1fish_patches32x128x128_2layers\\\\restored00010.tif',\n",
       "  'restored_with_model_2dpf_1fish_patches32x128x128_2layers\\\\restored00021.tif'],\n",
       " ['restored_with_model_3dpf_1fish_patches32x128x128_2layers\\\\restored00000.tif',\n",
       "  'restored_with_model_3dpf_1fish_patches32x128x128_2layers\\\\restored00010.tif',\n",
       "  'restored_with_model_3dpf_1fish_patches32x128x128_2layers\\\\restored00020.tif'],\n",
       " ['restored_with_model_4dpf_1fish_patches32x128x128_2layers\\\\restored00000.tif',\n",
       "  'restored_with_model_4dpf_1fish_patches32x128x128_2layers\\\\restored00011.tif',\n",
       "  'restored_with_model_4dpf_1fish_patches32x128x128_2layers\\\\restored00021.tif']]"
      ]
     },
     "execution_count": 9,
     "metadata": {},
     "output_type": "execute_result"
    }
   ],
   "source": [
    "filelists"
   ]
  },
  {
   "cell_type": "code",
   "execution_count": 10,
   "id": "0ee59147",
   "metadata": {},
   "outputs": [
    {
     "data": {
      "application/vnd.jupyter.widget-view+json": {
       "model_id": "1898c67735ed44259654618b15512219",
       "version_major": 2,
       "version_minor": 0
      },
      "text/plain": [
       "  0%|          | 0/3 [00:00<?, ?it/s]"
      ]
     },
     "metadata": {},
     "output_type": "display_data"
    },
    {
     "data": {
      "application/vnd.jupyter.widget-view+json": {
       "model_id": "bc165ce44f3d4c66af302de73cd2db39",
       "version_major": 2,
       "version_minor": 0
      },
      "text/plain": [
       "  0%|          | 0/3 [00:00<?, ?it/s]"
      ]
     },
     "metadata": {},
     "output_type": "display_data"
    },
    {
     "data": {
      "application/vnd.jupyter.widget-view+json": {
       "model_id": "fa4e5fd6255c48c8b28b2671f8648fd7",
       "version_major": 2,
       "version_minor": 0
      },
      "text/plain": [
       "  0%|          | 0/3 [00:00<?, ?it/s]"
      ]
     },
     "metadata": {},
     "output_type": "display_data"
    },
    {
     "data": {
      "application/vnd.jupyter.widget-view+json": {
       "model_id": "4b28e55f771044bf8a6e1e3bf65bce7b",
       "version_major": 2,
       "version_minor": 0
      },
      "text/plain": [
       "  0%|          | 0/3 [00:00<?, ?it/s]"
      ]
     },
     "metadata": {},
     "output_type": "display_data"
    }
   ],
   "source": [
    "gfp = np.array([imread(f) for f in tqdm(filelists[0])])\n",
    "rec1 = np.array([imread(f) for f in tqdm(filelists[1])])\n",
    "rec2 = np.array([imread(f) for f in tqdm(filelists[2])])\n",
    "rec3 = np.array([imread(f) for f in tqdm(filelists[3])])\n"
   ]
  },
  {
   "cell_type": "code",
   "execution_count": 11,
   "id": "a00f3a96",
   "metadata": {},
   "outputs": [],
   "source": [
    "info_file_name = 'info_content_tl_patch.pickle'\n",
    "with open(info_file_name, 'rb') as f:\n",
    "    infoss = pickle.load(f)"
   ]
  },
  {
   "cell_type": "code",
   "execution_count": 5,
   "id": "970f8bdf",
   "metadata": {},
   "outputs": [],
   "source": [
    "info = infoss[1]/infoss[0]"
   ]
  },
  {
   "cell_type": "code",
   "execution_count": 6,
   "id": "ca544c15",
   "metadata": {},
   "outputs": [],
   "source": [
    "info = np.clip(info, 1, None)"
   ]
  },
  {
   "cell_type": "code",
   "execution_count": 9,
   "id": "2e10033b",
   "metadata": {},
   "outputs": [
    {
     "data": {
      "text/plain": [
       "(29, 118, 61, 43)"
      ]
     },
     "execution_count": 9,
     "metadata": {},
     "output_type": "execute_result"
    }
   ],
   "source": [
    "info.shape"
   ]
  },
  {
   "cell_type": "code",
   "execution_count": 12,
   "id": "562e3102",
   "metadata": {},
   "outputs": [
    {
     "name": "stderr",
     "output_type": "stream",
     "text": [
      "C:\\Users\\nicol\\anaconda3\\envs\\scaling\\lib\\site-packages\\napari\\_vispy\\vispy_camera.py:109: RuntimeWarning: divide by zero encountered in true_divide\n",
      "  zoom = canvas_size / scale\n"
     ]
    },
    {
     "data": {
      "text/plain": [
       "<Image layer 'rec3' at 0x22d6eb5e400>"
      ]
     },
     "execution_count": 12,
     "metadata": {},
     "output_type": "execute_result"
    }
   ],
   "source": [
    "v = napari.Viewer()\n",
    "v.add_image(gfp,name='gfp',scale=(5,1,1))\n",
    "v.add_image(rec1[:,0],name='rec1',scale=(5,1,1))\n",
    "v.add_image(rec2[:,0],name='rec2',scale=(5,1,1))\n",
    "v.add_image(rec3[:,0],name='rec3',scale=(5,1,1))\n",
    "# v.add_image(info,name='info',scale=(5,32,32))\n"
   ]
  },
  {
   "cell_type": "code",
   "execution_count": 14,
   "id": "007d7ddf",
   "metadata": {},
   "outputs": [
    {
     "data": {
      "text/plain": [
       "(26, 1, 140, 1969, 861)"
      ]
     },
     "execution_count": 14,
     "metadata": {},
     "output_type": "execute_result"
    }
   ],
   "source": [
    "rec.shape"
   ]
  },
  {
   "cell_type": "code",
   "execution_count": null,
   "id": "f1211cf9",
   "metadata": {},
   "outputs": [],
   "source": []
  }
 ],
 "metadata": {
  "kernelspec": {
   "display_name": "Python 3",
   "language": "python",
   "name": "python3"
  },
  "language_info": {
   "codemirror_mode": {
    "name": "ipython",
    "version": 3
   },
   "file_extension": ".py",
   "mimetype": "text/x-python",
   "name": "python",
   "nbconvert_exporter": "python",
   "pygments_lexer": "ipython3",
   "version": "3.8.6"
  }
 },
 "nbformat": 4,
 "nbformat_minor": 5
}
