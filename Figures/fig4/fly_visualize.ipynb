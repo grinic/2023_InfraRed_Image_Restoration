{
 "cells": [
  {
   "cell_type": "code",
   "execution_count": 1,
   "id": "afc0224a",
   "metadata": {},
   "outputs": [],
   "source": [
    "import os, glob\n",
    "import numpy as np\n",
    "import matplotlib. pyplot as plt\n",
    "import pandas as pd\n",
    "import seaborn as sns\n",
    "from skimage.io import imread, imsave\n",
    "from tqdm.notebook import tqdm\n",
    "from scipy.fftpack import dct\n",
    "import pickle\n",
    "from skimage.morphology import remove_small_holes, binary_dilation, disk, binary_erosion\n",
    "from skimage.transform import resize\n",
    "\n",
    "from matplotlib import rc\n",
    "plt.rcParams.update({'font.size': 15})\n",
    "rc('font', size=12)\n",
    "rc('font', family='Arial')\n",
    "# plt.style.use('dark_background')\n",
    "rc('pdf', fonttype=42)\n",
    "\n",
    "import napari"
   ]
  },
  {
   "cell_type": "code",
   "execution_count": 2,
   "id": "a35640cd",
   "metadata": {},
   "outputs": [],
   "source": [
    "folders = [\n",
    "    'input',\n",
    "    'restored_with_model_1fly_patches32x128x128_2layers_cropped_registered',\n",
    "]\n",
    "\n",
    "filelists = [\n",
    "    glob.glob(os.path.join(f,'*.tif')) for f in folders\n",
    "]\n",
    "\n",
    "_ = [f.sort() for f in filelists]"
   ]
  },
  {
   "cell_type": "code",
   "execution_count": 4,
   "id": "0ee59147",
   "metadata": {},
   "outputs": [
    {
     "data": {
      "application/vnd.jupyter.widget-view+json": {
       "model_id": "0b0b120fa12d4edbbf84feaa93cd3104",
       "version_major": 2,
       "version_minor": 0
      },
      "text/plain": [
       "  0%|          | 0/26 [00:00<?, ?it/s]"
      ]
     },
     "metadata": {},
     "output_type": "display_data"
    },
    {
     "data": {
      "application/vnd.jupyter.widget-view+json": {
       "model_id": "a60ac9fa82fa44efb024ad9e5722aa68",
       "version_major": 2,
       "version_minor": 0
      },
      "text/plain": [
       "  0%|          | 0/26 [00:00<?, ?it/s]"
      ]
     },
     "metadata": {},
     "output_type": "display_data"
    }
   ],
   "source": [
    "gfp = np.array([imread(f) for f in tqdm(filelists[0])])\n",
    "rec = np.array([imread(f) for f in tqdm(filelists[1])])"
   ]
  },
  {
   "cell_type": "code",
   "execution_count": 5,
   "id": "a00f3a96",
   "metadata": {},
   "outputs": [],
   "source": [
    "info_file_name = 'info_content_tl_patch.pickle'\n",
    "with open(info_file_name, 'rb') as f:\n",
    "    infoss = pickle.load(f)"
   ]
  },
  {
   "cell_type": "code",
   "execution_count": 9,
   "id": "970f8bdf",
   "metadata": {},
   "outputs": [],
   "source": [
    "info = infoss[1]/infoss[0]"
   ]
  },
  {
   "cell_type": "code",
   "execution_count": 10,
   "id": "ca544c15",
   "metadata": {},
   "outputs": [],
   "source": [
    "info = np.clip(info, 1, None)"
   ]
  },
  {
   "cell_type": "code",
   "execution_count": 11,
   "id": "2e10033b",
   "metadata": {},
   "outputs": [
    {
     "data": {
      "text/plain": [
       "(26, 140, 1969, 861)"
      ]
     },
     "execution_count": 11,
     "metadata": {},
     "output_type": "execute_result"
    }
   ],
   "source": [
    "gfp.shape"
   ]
  },
  {
   "cell_type": "code",
   "execution_count": 15,
   "id": "562e3102",
   "metadata": {},
   "outputs": [
    {
     "name": "stderr",
     "output_type": "stream",
     "text": [
      "C:\\Users\\nicol\\anaconda3\\envs\\scaling\\lib\\site-packages\\napari\\_vispy\\vispy_camera.py:109: RuntimeWarning: divide by zero encountered in true_divide\n",
      "  zoom = canvas_size / scale\n"
     ]
    },
    {
     "data": {
      "text/plain": [
       "<Image layer 'info' at 0x1e8d01e0970>"
      ]
     },
     "execution_count": 15,
     "metadata": {},
     "output_type": "execute_result"
    }
   ],
   "source": [
    "v = napari.Viewer()\n",
    "v.add_image(gfp,name='gfp',scale=(5,1,1))\n",
    "v.add_image(rec[:,0],name='rec',scale=(5,1,1))\n",
    "v.add_image(info,name='info',scale=(5,32,32))\n"
   ]
  },
  {
   "cell_type": "code",
   "execution_count": 14,
   "id": "007d7ddf",
   "metadata": {},
   "outputs": [
    {
     "data": {
      "text/plain": [
       "(26, 1, 140, 1969, 861)"
      ]
     },
     "execution_count": 14,
     "metadata": {},
     "output_type": "execute_result"
    }
   ],
   "source": [
    "rec.shape"
   ]
  },
  {
   "cell_type": "code",
   "execution_count": null,
   "id": "f1211cf9",
   "metadata": {},
   "outputs": [],
   "source": []
  }
 ],
 "metadata": {
  "kernelspec": {
   "display_name": "Python 3",
   "language": "python",
   "name": "python3"
  },
  "language_info": {
   "codemirror_mode": {
    "name": "ipython",
    "version": 3
   },
   "file_extension": ".py",
   "mimetype": "text/x-python",
   "name": "python",
   "nbconvert_exporter": "python",
   "pygments_lexer": "ipython3",
   "version": "3.8.6"
  }
 },
 "nbformat": 4,
 "nbformat_minor": 5
}
